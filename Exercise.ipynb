{
 "cells": [
  {
   "cell_type": "markdown",
   "metadata": {},
   "source": [
    "# Day 1"
   ]
  },
  {
   "cell_type": "code",
   "execution_count": 1,
   "metadata": {},
   "outputs": [
    {
     "name": "stdout",
     "output_type": "stream",
     "text": [
      "[1, 4]\n"
     ]
    }
   ],
   "source": [
    "def Indices(tab, target):\n",
    "    # Loop through each element of the array 'tab' using index 'i'\n",
    "    for i in range(len(tab)):\n",
    "        # Loop through the subsequent elements in the array 'tab' using index 'j'\n",
    "        for j in range(i + 1, len(tab)):\n",
    "            # Check if the sum of the elements at index 'i' and 'j' equals the target value\n",
    "            if tab[i] + tab[j] == target:\n",
    "                # If a pair is found, return the indices as a list\n",
    "                return [i, j]\n",
    "    # If no pair is found after checking all elements, return [-1, -1]\n",
    "    return [-1, -1]  \n",
    "\n",
    "# Define the variables \n",
    "tab = [3, 7, 6, 9, 1, 4, 2]\n",
    "target = 8\n",
    "\n",
    "# Call the function with the defined variables\n",
    "result = Indices(tab, target)\n",
    "\n",
    "print(result)  "
   ]
  }
 ],
 "metadata": {
  "kernelspec": {
   "display_name": "Python 3",
   "language": "python",
   "name": "python3"
  },
  "language_info": {
   "codemirror_mode": {
    "name": "ipython",
    "version": 3
   },
   "file_extension": ".py",
   "mimetype": "text/x-python",
   "name": "python",
   "nbconvert_exporter": "python",
   "pygments_lexer": "ipython3",
   "version": "3.11.2"
  }
 },
 "nbformat": 4,
 "nbformat_minor": 2
}
